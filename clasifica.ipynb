{
 "cells": [
  {
   "cell_type": "code",
   "execution_count": 2,
   "metadata": {},
   "outputs": [],
   "source": [
    "### cargar las librerias necesarias \n",
    "suppressMessages(library(readxl))\n",
    "suppressMessages(library(caret))"
   ]
  },
  {
   "cell_type": "code",
   "execution_count": 6,
   "metadata": {},
   "outputs": [
    {
     "data": {
      "text/html": [
       "<ol class=list-inline>\n",
       "\t<li>'cp1_mean'</li>\n",
       "\t<li>'cp1_median'</li>\n",
       "\t<li>'cp1_stdev'</li>\n",
       "\t<li>'cp1_majori'</li>\n",
       "\t<li>'cp1_varian'</li>\n",
       "\t<li>'cp2_mean'</li>\n",
       "\t<li>'cp2_median'</li>\n",
       "\t<li>'cp2_stdev'</li>\n",
       "\t<li>'cp2_majori'</li>\n",
       "\t<li>'cp2_varian'</li>\n",
       "\t<li>'cp3_mean'</li>\n",
       "\t<li>'cp3_median'</li>\n",
       "\t<li>'cp3_stdev'</li>\n",
       "\t<li>'cp3_majori'</li>\n",
       "\t<li>'cp3_varian'</li>\n",
       "\t<li>'cp4_mean'</li>\n",
       "\t<li>'cp4_median'</li>\n",
       "\t<li>'cp4_stdev'</li>\n",
       "\t<li>'cp4_majori'</li>\n",
       "\t<li>'cp4_varian'</li>\n",
       "</ol>\n"
      ],
      "text/latex": [
       "\\begin{enumerate*}\n",
       "\\item 'cp1\\_mean'\n",
       "\\item 'cp1\\_median'\n",
       "\\item 'cp1\\_stdev'\n",
       "\\item 'cp1\\_majori'\n",
       "\\item 'cp1\\_varian'\n",
       "\\item 'cp2\\_mean'\n",
       "\\item 'cp2\\_median'\n",
       "\\item 'cp2\\_stdev'\n",
       "\\item 'cp2\\_majori'\n",
       "\\item 'cp2\\_varian'\n",
       "\\item 'cp3\\_mean'\n",
       "\\item 'cp3\\_median'\n",
       "\\item 'cp3\\_stdev'\n",
       "\\item 'cp3\\_majori'\n",
       "\\item 'cp3\\_varian'\n",
       "\\item 'cp4\\_mean'\n",
       "\\item 'cp4\\_median'\n",
       "\\item 'cp4\\_stdev'\n",
       "\\item 'cp4\\_majori'\n",
       "\\item 'cp4\\_varian'\n",
       "\\end{enumerate*}\n"
      ],
      "text/markdown": [
       "1. 'cp1_mean'\n",
       "2. 'cp1_median'\n",
       "3. 'cp1_stdev'\n",
       "4. 'cp1_majori'\n",
       "5. 'cp1_varian'\n",
       "6. 'cp2_mean'\n",
       "7. 'cp2_median'\n",
       "8. 'cp2_stdev'\n",
       "9. 'cp2_majori'\n",
       "10. 'cp2_varian'\n",
       "11. 'cp3_mean'\n",
       "12. 'cp3_median'\n",
       "13. 'cp3_stdev'\n",
       "14. 'cp3_majori'\n",
       "15. 'cp3_varian'\n",
       "16. 'cp4_mean'\n",
       "17. 'cp4_median'\n",
       "18. 'cp4_stdev'\n",
       "19. 'cp4_majori'\n",
       "20. 'cp4_varian'\n",
       "\n",
       "\n"
      ],
      "text/plain": [
       " [1] \"cp1_mean\"   \"cp1_median\" \"cp1_stdev\"  \"cp1_majori\" \"cp1_varian\"\n",
       " [6] \"cp2_mean\"   \"cp2_median\" \"cp2_stdev\"  \"cp2_majori\" \"cp2_varian\"\n",
       "[11] \"cp3_mean\"   \"cp3_median\" \"cp3_stdev\"  \"cp3_majori\" \"cp3_varian\"\n",
       "[16] \"cp4_mean\"   \"cp4_median\" \"cp4_stdev\"  \"cp4_majori\" \"cp4_varian\""
      ]
     },
     "metadata": {},
     "output_type": "display_data"
    }
   ],
   "source": [
    "### cargar la tabla con la totalidad de los datos creada previamente\n",
    "data = read_excel(\"D:/GEOBIA/data.xlsx\",col_names = T)\n",
    "### selecciona las columnas de interés y asegura borrar datos nulos \n",
    "data_all = na.omit(as.data.frame(data[,c(8:27)]))\n",
    "### se pide que de los nombres para asegurar que sean las columnas correctas\n",
    "names(data_all)"
   ]
  },
  {
   "cell_type": "code",
   "execution_count": 7,
   "metadata": {},
   "outputs": [
    {
     "data": {
      "text/html": [
       "<ol class=list-inline>\n",
       "\t<li>'id'</li>\n",
       "\t<li>'class'</li>\n",
       "\t<li>'ID_2'</li>\n",
       "\t<li>'VALUE'</li>\n",
       "\t<li>'NAME'</li>\n",
       "\t<li>'pci [0] (M'</li>\n",
       "\t<li>'pci [1] (M'</li>\n",
       "\t<li>'pci [2] (M'</li>\n",
       "\t<li>'pci [3] (M'</li>\n",
       "\t<li>'cp1_mean'</li>\n",
       "\t<li>'cp1_median'</li>\n",
       "\t<li>'cp1_stdev'</li>\n",
       "\t<li>'cp1_majori'</li>\n",
       "\t<li>'cp1_varian'</li>\n",
       "\t<li>'cp2_mean'</li>\n",
       "\t<li>'cp2_median'</li>\n",
       "\t<li>'cp2_stdev'</li>\n",
       "\t<li>'cp2_majori'</li>\n",
       "\t<li>'cp2_varian'</li>\n",
       "\t<li>'cp3_mean'</li>\n",
       "\t<li>'cp3_median'</li>\n",
       "\t<li>'cp3_stdev'</li>\n",
       "\t<li>'cp3_majori'</li>\n",
       "\t<li>'cp3_varian'</li>\n",
       "\t<li>'cp4_mean'</li>\n",
       "\t<li>'cp4_median'</li>\n",
       "\t<li>'cp4_stdev'</li>\n",
       "\t<li>'cp4_majori'</li>\n",
       "\t<li>'cp4_varian'</li>\n",
       "</ol>\n"
      ],
      "text/latex": [
       "\\begin{enumerate*}\n",
       "\\item 'id'\n",
       "\\item 'class'\n",
       "\\item 'ID\\_2'\n",
       "\\item 'VALUE'\n",
       "\\item 'NAME'\n",
       "\\item 'pci {[}0{]} (M'\n",
       "\\item 'pci {[}1{]} (M'\n",
       "\\item 'pci {[}2{]} (M'\n",
       "\\item 'pci {[}3{]} (M'\n",
       "\\item 'cp1\\_mean'\n",
       "\\item 'cp1\\_median'\n",
       "\\item 'cp1\\_stdev'\n",
       "\\item 'cp1\\_majori'\n",
       "\\item 'cp1\\_varian'\n",
       "\\item 'cp2\\_mean'\n",
       "\\item 'cp2\\_median'\n",
       "\\item 'cp2\\_stdev'\n",
       "\\item 'cp2\\_majori'\n",
       "\\item 'cp2\\_varian'\n",
       "\\item 'cp3\\_mean'\n",
       "\\item 'cp3\\_median'\n",
       "\\item 'cp3\\_stdev'\n",
       "\\item 'cp3\\_majori'\n",
       "\\item 'cp3\\_varian'\n",
       "\\item 'cp4\\_mean'\n",
       "\\item 'cp4\\_median'\n",
       "\\item 'cp4\\_stdev'\n",
       "\\item 'cp4\\_majori'\n",
       "\\item 'cp4\\_varian'\n",
       "\\end{enumerate*}\n"
      ],
      "text/markdown": [
       "1. 'id'\n",
       "2. 'class'\n",
       "3. 'ID_2'\n",
       "4. 'VALUE'\n",
       "5. 'NAME'\n",
       "6. 'pci [0] (M'\n",
       "7. 'pci [1] (M'\n",
       "8. 'pci [2] (M'\n",
       "9. 'pci [3] (M'\n",
       "10. 'cp1_mean'\n",
       "11. 'cp1_median'\n",
       "12. 'cp1_stdev'\n",
       "13. 'cp1_majori'\n",
       "14. 'cp1_varian'\n",
       "15. 'cp2_mean'\n",
       "16. 'cp2_median'\n",
       "17. 'cp2_stdev'\n",
       "18. 'cp2_majori'\n",
       "19. 'cp2_varian'\n",
       "20. 'cp3_mean'\n",
       "21. 'cp3_median'\n",
       "22. 'cp3_stdev'\n",
       "23. 'cp3_majori'\n",
       "24. 'cp3_varian'\n",
       "25. 'cp4_mean'\n",
       "26. 'cp4_median'\n",
       "27. 'cp4_stdev'\n",
       "28. 'cp4_majori'\n",
       "29. 'cp4_varian'\n",
       "\n",
       "\n"
      ],
      "text/plain": [
       " [1] \"id\"         \"class\"      \"ID_2\"       \"VALUE\"      \"NAME\"      \n",
       " [6] \"pci [0] (M\" \"pci [1] (M\" \"pci [2] (M\" \"pci [3] (M\" \"cp1_mean\"  \n",
       "[11] \"cp1_median\" \"cp1_stdev\"  \"cp1_majori\" \"cp1_varian\" \"cp2_mean\"  \n",
       "[16] \"cp2_median\" \"cp2_stdev\"  \"cp2_majori\" \"cp2_varian\" \"cp3_mean\"  \n",
       "[21] \"cp3_median\" \"cp3_stdev\"  \"cp3_majori\" \"cp3_varian\" \"cp4_mean\"  \n",
       "[26] \"cp4_median\" \"cp4_stdev\"  \"cp4_majori\" \"cp4_varian\""
      ]
     },
     "metadata": {},
     "output_type": "display_data"
    }
   ],
   "source": [
    "### cargar la tabla de entrenamiento y validación\n",
    "data1 = read_excel(\"D:/GEOBIA/train.xlsx\",col_names = T)\n",
    "names(data1)"
   ]
  },
  {
   "cell_type": "code",
   "execution_count": 9,
   "metadata": {},
   "outputs": [
    {
     "data": {
      "text/html": [
       "<ol class=list-inline>\n",
       "\t<li>'cp1_mean'</li>\n",
       "\t<li>'cp1_median'</li>\n",
       "\t<li>'cp1_stdev'</li>\n",
       "\t<li>'cp1_majori'</li>\n",
       "\t<li>'cp1_varian'</li>\n",
       "\t<li>'cp2_mean'</li>\n",
       "\t<li>'cp2_median'</li>\n",
       "\t<li>'cp2_stdev'</li>\n",
       "\t<li>'cp2_majori'</li>\n",
       "\t<li>'cp2_varian'</li>\n",
       "\t<li>'cp3_mean'</li>\n",
       "\t<li>'cp3_median'</li>\n",
       "\t<li>'cp3_stdev'</li>\n",
       "\t<li>'cp3_majori'</li>\n",
       "\t<li>'cp3_varian'</li>\n",
       "\t<li>'cp4_mean'</li>\n",
       "\t<li>'cp4_median'</li>\n",
       "\t<li>'cp4_stdev'</li>\n",
       "\t<li>'cp4_majori'</li>\n",
       "\t<li>'cp4_varian'</li>\n",
       "\t<li>'class'</li>\n",
       "</ol>\n"
      ],
      "text/latex": [
       "\\begin{enumerate*}\n",
       "\\item 'cp1\\_mean'\n",
       "\\item 'cp1\\_median'\n",
       "\\item 'cp1\\_stdev'\n",
       "\\item 'cp1\\_majori'\n",
       "\\item 'cp1\\_varian'\n",
       "\\item 'cp2\\_mean'\n",
       "\\item 'cp2\\_median'\n",
       "\\item 'cp2\\_stdev'\n",
       "\\item 'cp2\\_majori'\n",
       "\\item 'cp2\\_varian'\n",
       "\\item 'cp3\\_mean'\n",
       "\\item 'cp3\\_median'\n",
       "\\item 'cp3\\_stdev'\n",
       "\\item 'cp3\\_majori'\n",
       "\\item 'cp3\\_varian'\n",
       "\\item 'cp4\\_mean'\n",
       "\\item 'cp4\\_median'\n",
       "\\item 'cp4\\_stdev'\n",
       "\\item 'cp4\\_majori'\n",
       "\\item 'cp4\\_varian'\n",
       "\\item 'class'\n",
       "\\end{enumerate*}\n"
      ],
      "text/markdown": [
       "1. 'cp1_mean'\n",
       "2. 'cp1_median'\n",
       "3. 'cp1_stdev'\n",
       "4. 'cp1_majori'\n",
       "5. 'cp1_varian'\n",
       "6. 'cp2_mean'\n",
       "7. 'cp2_median'\n",
       "8. 'cp2_stdev'\n",
       "9. 'cp2_majori'\n",
       "10. 'cp2_varian'\n",
       "11. 'cp3_mean'\n",
       "12. 'cp3_median'\n",
       "13. 'cp3_stdev'\n",
       "14. 'cp3_majori'\n",
       "15. 'cp3_varian'\n",
       "16. 'cp4_mean'\n",
       "17. 'cp4_median'\n",
       "18. 'cp4_stdev'\n",
       "19. 'cp4_majori'\n",
       "20. 'cp4_varian'\n",
       "21. 'class'\n",
       "\n",
       "\n"
      ],
      "text/plain": [
       " [1] \"cp1_mean\"   \"cp1_median\" \"cp1_stdev\"  \"cp1_majori\" \"cp1_varian\"\n",
       " [6] \"cp2_mean\"   \"cp2_median\" \"cp2_stdev\"  \"cp2_majori\" \"cp2_varian\"\n",
       "[11] \"cp3_mean\"   \"cp3_median\" \"cp3_stdev\"  \"cp3_majori\" \"cp3_varian\"\n",
       "[16] \"cp4_mean\"   \"cp4_median\" \"cp4_stdev\"  \"cp4_majori\" \"cp4_varian\"\n",
       "[21] \"class\"     "
      ]
     },
     "metadata": {},
     "output_type": "display_data"
    }
   ],
   "source": [
    "### selecciona las columnas de interés   y asegura borrar datos nulos \n",
    "data2 = na.omit(as.data.frame(data1[,c(10:29, 2)]))\n",
    "names(data2)"
   ]
  },
  {
   "cell_type": "code",
   "execution_count": 11,
   "metadata": {},
   "outputs": [
    {
     "data": {
      "text/html": [
       "<table>\n",
       "<thead><tr><th scope=col>Resample1</th></tr></thead>\n",
       "<tbody>\n",
       "\t<tr><td>1</td></tr>\n",
       "\t<tr><td>2</td></tr>\n",
       "\t<tr><td>3</td></tr>\n",
       "\t<tr><td>4</td></tr>\n",
       "\t<tr><td>5</td></tr>\n",
       "\t<tr><td>8</td></tr>\n",
       "</tbody>\n",
       "</table>\n"
      ],
      "text/latex": [
       "\\begin{tabular}{l}\n",
       " Resample1\\\\\n",
       "\\hline\n",
       "\t 1\\\\\n",
       "\t 2\\\\\n",
       "\t 3\\\\\n",
       "\t 4\\\\\n",
       "\t 5\\\\\n",
       "\t 8\\\\\n",
       "\\end{tabular}\n"
      ],
      "text/markdown": [
       "\n",
       "Resample1 | \n",
       "|---|---|---|---|---|---|\n",
       "| 1 | \n",
       "| 2 | \n",
       "| 3 | \n",
       "| 4 | \n",
       "| 5 | \n",
       "| 8 | \n",
       "\n",
       "\n"
      ],
      "text/plain": [
       "     Resample1\n",
       "[1,] 1        \n",
       "[2,] 2        \n",
       "[3,] 3        \n",
       "[4,] 4        \n",
       "[5,] 5        \n",
       "[6,] 8        "
      ]
     },
     "metadata": {},
     "output_type": "display_data"
    }
   ],
   "source": [
    "### se crea una partición entrenamiento/validación con 75% de los datos para entrenamiento\n",
    "set.seed(123)\n",
    "trainIndex = createDataPartition(data2$class, p = .75, \n",
    "                                  list = F, \n",
    "                                  times = 1)\n",
    "head(trainIndex)"
   ]
  },
  {
   "cell_type": "code",
   "execution_count": 12,
   "metadata": {},
   "outputs": [],
   "source": [
    "### separar datos de entrenamiento y de validación\n",
    "dataTrain = data2[ trainIndex,]\n",
    "dataTest  = data2[-trainIndex,]"
   ]
  },
  {
   "cell_type": "code",
   "execution_count": 13,
   "metadata": {},
   "outputs": [
    {
     "data": {
      "text/html": [
       "<table>\n",
       "<thead><tr><th scope=col>Var1</th><th scope=col>Freq</th></tr></thead>\n",
       "<tbody>\n",
       "\t<tr><td>bosque    </td><td>40        </td></tr>\n",
       "\t<tr><td>enero     </td><td>60        </td></tr>\n",
       "\t<tr><td>enmalezado</td><td>51        </td></tr>\n",
       "\t<tr><td>febrero   </td><td>65        </td></tr>\n",
       "\t<tr><td>humedo    </td><td>52        </td></tr>\n",
       "\t<tr><td>inundado  </td><td>54        </td></tr>\n",
       "\t<tr><td>matorral  </td><td>63        </td></tr>\n",
       "\t<tr><td>seco      </td><td>60        </td></tr>\n",
       "\t<tr><td>urbano    </td><td>57        </td></tr>\n",
       "</tbody>\n",
       "</table>\n"
      ],
      "text/latex": [
       "\\begin{tabular}{r|ll}\n",
       " Var1 & Freq\\\\\n",
       "\\hline\n",
       "\t bosque     & 40        \\\\\n",
       "\t enero      & 60        \\\\\n",
       "\t enmalezado & 51        \\\\\n",
       "\t febrero    & 65        \\\\\n",
       "\t humedo     & 52        \\\\\n",
       "\t inundado   & 54        \\\\\n",
       "\t matorral   & 63        \\\\\n",
       "\t seco       & 60        \\\\\n",
       "\t urbano     & 57        \\\\\n",
       "\\end{tabular}\n"
      ],
      "text/markdown": [
       "\n",
       "Var1 | Freq | \n",
       "|---|---|---|---|---|---|---|---|---|\n",
       "| bosque     | 40         | \n",
       "| enero      | 60         | \n",
       "| enmalezado | 51         | \n",
       "| febrero    | 65         | \n",
       "| humedo     | 52         | \n",
       "| inundado   | 54         | \n",
       "| matorral   | 63         | \n",
       "| seco       | 60         | \n",
       "| urbano     | 57         | \n",
       "\n",
       "\n"
      ],
      "text/plain": [
       "  Var1       Freq\n",
       "1 bosque     40  \n",
       "2 enero      60  \n",
       "3 enmalezado 51  \n",
       "4 febrero    65  \n",
       "5 humedo     52  \n",
       "6 inundado   54  \n",
       "7 matorral   63  \n",
       "8 seco       60  \n",
       "9 urbano     57  "
      ]
     },
     "metadata": {},
     "output_type": "display_data"
    }
   ],
   "source": [
    "### verificar las frecuencias de cada clase en la seleccion de entrenamiento\n",
    "data.frame(table(dataTrain$class))"
   ]
  },
  {
   "cell_type": "code",
   "execution_count": 14,
   "metadata": {},
   "outputs": [
    {
     "data": {
      "text/html": [
       "<table>\n",
       "<thead><tr><th scope=col>Var1</th><th scope=col>Freq</th></tr></thead>\n",
       "<tbody>\n",
       "\t<tr><td>bosque    </td><td>13        </td></tr>\n",
       "\t<tr><td>enero     </td><td>19        </td></tr>\n",
       "\t<tr><td>enmalezado</td><td>17        </td></tr>\n",
       "\t<tr><td>febrero   </td><td>21        </td></tr>\n",
       "\t<tr><td>humedo    </td><td>17        </td></tr>\n",
       "\t<tr><td>inundado  </td><td>17        </td></tr>\n",
       "\t<tr><td>matorral  </td><td>21        </td></tr>\n",
       "\t<tr><td>seco      </td><td>20        </td></tr>\n",
       "\t<tr><td>urbano    </td><td>19        </td></tr>\n",
       "</tbody>\n",
       "</table>\n"
      ],
      "text/latex": [
       "\\begin{tabular}{r|ll}\n",
       " Var1 & Freq\\\\\n",
       "\\hline\n",
       "\t bosque     & 13        \\\\\n",
       "\t enero      & 19        \\\\\n",
       "\t enmalezado & 17        \\\\\n",
       "\t febrero    & 21        \\\\\n",
       "\t humedo     & 17        \\\\\n",
       "\t inundado   & 17        \\\\\n",
       "\t matorral   & 21        \\\\\n",
       "\t seco       & 20        \\\\\n",
       "\t urbano     & 19        \\\\\n",
       "\\end{tabular}\n"
      ],
      "text/markdown": [
       "\n",
       "Var1 | Freq | \n",
       "|---|---|---|---|---|---|---|---|---|\n",
       "| bosque     | 13         | \n",
       "| enero      | 19         | \n",
       "| enmalezado | 17         | \n",
       "| febrero    | 21         | \n",
       "| humedo     | 17         | \n",
       "| inundado   | 17         | \n",
       "| matorral   | 21         | \n",
       "| seco       | 20         | \n",
       "| urbano     | 19         | \n",
       "\n",
       "\n"
      ],
      "text/plain": [
       "  Var1       Freq\n",
       "1 bosque     13  \n",
       "2 enero      19  \n",
       "3 enmalezado 17  \n",
       "4 febrero    21  \n",
       "5 humedo     17  \n",
       "6 inundado   17  \n",
       "7 matorral   21  \n",
       "8 seco       20  \n",
       "9 urbano     19  "
      ]
     },
     "metadata": {},
     "output_type": "display_data"
    }
   ],
   "source": [
    "### verificar las frecuencias de cada clase en la seleccion de validación\n",
    "data.frame(table(dataTest$class))"
   ]
  },
  {
   "cell_type": "markdown",
   "metadata": {},
   "source": [
    "Observando las frecuencias tanto de los datos de entrenamiento como de validación, se encuentra que los datos de febrero, enero, matorral, seco, en el entrenamiento tienen mayor cantidad de datos que los datos de bosque, enmalezado y urbano, la misma tendencia se observa en los datos de validación, de acuerdo con Maxwell, Warner, & Fang, (2018), Random Forest es sensible a proporciones diferentes de clases, ya que se puede favorecer a la clase mayoritaria cuando se realiza el proceso de votación para la escogencia de la pertenencia a una clase, se presentará una mayor cantidad de votos para las clases con mayor representatividad, por tal razón se hace necesario balancear el número de muestras de las clases.\n",
    "\n",
    "A continuación se crea una función que balancea los datos, los argumentos utilizados son los siguientes, x que hace referencia al dataset,  classCol la columna que contiene las clases y nsamples_class, que es el número de muestras.   "
   ]
  },
  {
   "cell_type": "code",
   "execution_count": 15,
   "metadata": {},
   "outputs": [],
   "source": [
    "# funcion para balancear el dataset\n",
    "balancea = function(x, classCol, nsamples_class){\n",
    "  for (i in 1:length(unique(x[, classCol]))){\n",
    "    class.i = unique(x[, classCol])[i]\n",
    "    if((sum(x[, classCol] == class.i) - nsamples_class) != 0){\n",
    "      x = x[-sample(which(x[, classCol] == class.i), \n",
    "                     sum(x[, classCol] == class.i) - nsamples_class), ]\n",
    "    }\n",
    "  }\n",
    "  return(x)\n",
    "}"
   ]
  },
  {
   "cell_type": "code",
   "execution_count": 27,
   "metadata": {},
   "outputs": [
    {
     "data": {
      "text/html": [
       "<table>\n",
       "<thead><tr><th scope=col>Var1</th><th scope=col>Freq</th></tr></thead>\n",
       "<tbody>\n",
       "\t<tr><td>bosque    </td><td>40        </td></tr>\n",
       "\t<tr><td>enero     </td><td>40        </td></tr>\n",
       "\t<tr><td>enmalezado</td><td>40        </td></tr>\n",
       "\t<tr><td>febrero   </td><td>40        </td></tr>\n",
       "\t<tr><td>humedo    </td><td>40        </td></tr>\n",
       "\t<tr><td>inundado  </td><td>40        </td></tr>\n",
       "\t<tr><td>matorral  </td><td>40        </td></tr>\n",
       "\t<tr><td>seco      </td><td>40        </td></tr>\n",
       "\t<tr><td>urbano    </td><td>40        </td></tr>\n",
       "</tbody>\n",
       "</table>\n"
      ],
      "text/latex": [
       "\\begin{tabular}{r|ll}\n",
       " Var1 & Freq\\\\\n",
       "\\hline\n",
       "\t bosque     & 40        \\\\\n",
       "\t enero      & 40        \\\\\n",
       "\t enmalezado & 40        \\\\\n",
       "\t febrero    & 40        \\\\\n",
       "\t humedo     & 40        \\\\\n",
       "\t inundado   & 40        \\\\\n",
       "\t matorral   & 40        \\\\\n",
       "\t seco       & 40        \\\\\n",
       "\t urbano     & 40        \\\\\n",
       "\\end{tabular}\n"
      ],
      "text/markdown": [
       "\n",
       "Var1 | Freq | \n",
       "|---|---|---|---|---|---|---|---|---|\n",
       "| bosque     | 40         | \n",
       "| enero      | 40         | \n",
       "| enmalezado | 40         | \n",
       "| febrero    | 40         | \n",
       "| humedo     | 40         | \n",
       "| inundado   | 40         | \n",
       "| matorral   | 40         | \n",
       "| seco       | 40         | \n",
       "| urbano     | 40         | \n",
       "\n",
       "\n"
      ],
      "text/plain": [
       "  Var1       Freq\n",
       "1 bosque     40  \n",
       "2 enero      40  \n",
       "3 enmalezado 40  \n",
       "4 febrero    40  \n",
       "5 humedo     40  \n",
       "6 inundado   40  \n",
       "7 matorral   40  \n",
       "8 seco       40  \n",
       "9 urbano     40  "
      ]
     },
     "metadata": {},
     "output_type": "display_data"
    }
   ],
   "source": [
    "### selecciona el número de observaciones para balancer los datos 40 en este caso\n",
    "no_ob_class = 40\n",
    "### Balancea el dataset de entrenamiento\n",
    "training_balan = balancea(dataTrain, \"class\", no_ob_class)\n",
    "### se verifica que hayan quedado con iguales datos todas las variables \n",
    "data.frame( table(training_balan$class))"
   ]
  },
  {
   "cell_type": "code",
   "execution_count": 28,
   "metadata": {},
   "outputs": [],
   "source": [
    "# entrenamiento del Modelo Random Forests\n",
    "set.seed(123)\n",
    "modelo_rf = train(as.factor(class) ~ ., data = training_balan, method = \"rf\",importance = TRUE,verbose = TRUE)\n",
    "pred.rf = predict(modelo_rf, dataTest)"
   ]
  },
  {
   "cell_type": "code",
   "execution_count": 40,
   "metadata": {},
   "outputs": [
    {
     "data": {
      "text/html": [
       "<table>\n",
       "<thead><tr><th></th><th scope=col>bosque</th><th scope=col>enero</th><th scope=col>enmalezado</th><th scope=col>febrero</th><th scope=col>humedo</th><th scope=col>inundado</th><th scope=col>matorral</th><th scope=col>seco</th><th scope=col>urbano</th></tr></thead>\n",
       "<tbody>\n",
       "\t<tr><th scope=row>cp1_mean</th><td>14.78</td><td>15.28</td><td>13.80</td><td>13.69</td><td>14.23</td><td> 9.98</td><td>13.29</td><td>16.72</td><td> 9.89</td></tr>\n",
       "\t<tr><th scope=row>cp1_median</th><td>14.44</td><td>15.41</td><td>13.59</td><td>13.55</td><td>13.47</td><td>10.84</td><td>12.67</td><td>17.87</td><td> 9.20</td></tr>\n",
       "\t<tr><th scope=row>cp1_stdev</th><td> 5.00</td><td> 7.37</td><td> 8.23</td><td>10.44</td><td> 6.12</td><td> 5.38</td><td> 9.45</td><td> 2.45</td><td>10.30</td></tr>\n",
       "\t<tr><th scope=row>cp1_majori</th><td>14.21</td><td>14.63</td><td>15.08</td><td>15.12</td><td>15.52</td><td>10.71</td><td>12.37</td><td>14.48</td><td>10.43</td></tr>\n",
       "\t<tr><th scope=row>cp1_varian</th><td> 3.82</td><td> 6.64</td><td> 6.92</td><td> 8.20</td><td> 5.25</td><td> 4.10</td><td> 9.04</td><td> 1.54</td><td> 9.42</td></tr>\n",
       "\t<tr><th scope=row>cp2_mean</th><td>11.67</td><td>10.00</td><td>10.72</td><td>10.16</td><td>10.77</td><td>16.40</td><td>10.57</td><td>11.49</td><td> 7.70</td></tr>\n",
       "\t<tr><th scope=row>cp2_median</th><td>11.81</td><td>10.33</td><td> 9.68</td><td> 9.84</td><td>10.22</td><td>14.77</td><td>11.12</td><td>11.94</td><td> 7.41</td></tr>\n",
       "\t<tr><th scope=row>cp2_stdev</th><td> 7.00</td><td> 5.10</td><td> 4.54</td><td> 2.87</td><td> 8.10</td><td> 5.67</td><td> 3.76</td><td> 1.90</td><td> 8.54</td></tr>\n",
       "\t<tr><th scope=row>cp2_majori</th><td>11.20</td><td> 9.14</td><td> 7.35</td><td> 9.27</td><td> 9.25</td><td>13.59</td><td>10.18</td><td>10.89</td><td> 5.94</td></tr>\n",
       "\t<tr><th scope=row>cp2_varian</th><td> 7.82</td><td> 3.07</td><td> 2.11</td><td> 2.20</td><td> 8.05</td><td> 2.12</td><td> 2.44</td><td> 3.33</td><td> 8.51</td></tr>\n",
       "\t<tr><th scope=row>cp3_mean</th><td>14.99</td><td>11.19</td><td> 8.15</td><td>14.62</td><td>11.70</td><td> 6.92</td><td> 8.55</td><td> 9.77</td><td> 5.65</td></tr>\n",
       "\t<tr><th scope=row>cp3_median</th><td>14.98</td><td>11.50</td><td> 8.68</td><td>14.44</td><td>11.40</td><td> 7.14</td><td> 8.87</td><td> 8.21</td><td> 4.85</td></tr>\n",
       "\t<tr><th scope=row>cp3_stdev</th><td>10.54</td><td>12.33</td><td> 7.54</td><td> 9.87</td><td> 8.07</td><td> 5.29</td><td> 9.76</td><td> 5.95</td><td>13.50</td></tr>\n",
       "\t<tr><th scope=row>cp3_majori</th><td>10.96</td><td> 8.72</td><td> 8.54</td><td>11.68</td><td>11.14</td><td> 5.66</td><td> 4.33</td><td> 8.40</td><td> 8.90</td></tr>\n",
       "\t<tr><th scope=row>cp3_varian</th><td>11.62</td><td>10.94</td><td> 6.92</td><td>10.13</td><td> 7.55</td><td> 6.21</td><td>10.72</td><td> 7.04</td><td>12.97</td></tr>\n",
       "\t<tr><th scope=row>cp4_mean</th><td>12.52</td><td>14.99</td><td>16.17</td><td> 8.29</td><td>11.38</td><td> 8.46</td><td>15.93</td><td> 7.10</td><td>12.22</td></tr>\n",
       "\t<tr><th scope=row>cp4_median</th><td>13.27</td><td>15.11</td><td>16.73</td><td> 7.06</td><td>10.98</td><td> 8.49</td><td>16.09</td><td> 7.75</td><td>13.01</td></tr>\n",
       "\t<tr><th scope=row>cp4_stdev</th><td> 8.20</td><td> 7.26</td><td> 5.39</td><td> 8.73</td><td> 6.90</td><td> 5.18</td><td> 7.00</td><td> 2.11</td><td>12.92</td></tr>\n",
       "\t<tr><th scope=row>cp4_majori</th><td> 8.44</td><td> 9.73</td><td>14.97</td><td> 6.11</td><td> 8.88</td><td> 5.82</td><td>10.60</td><td> 3.53</td><td>12.54</td></tr>\n",
       "\t<tr><th scope=row>cp4_varian</th><td> 8.27</td><td> 8.44</td><td> 6.31</td><td> 8.48</td><td> 6.88</td><td> 6.48</td><td> 7.38</td><td> 2.11</td><td>13.39</td></tr>\n",
       "</tbody>\n",
       "</table>\n"
      ],
      "text/latex": [
       "\\begin{tabular}{r|lllllllll}\n",
       "  & bosque & enero & enmalezado & febrero & humedo & inundado & matorral & seco & urbano\\\\\n",
       "\\hline\n",
       "\tcp1\\_mean & 14.78 & 15.28 & 13.80 & 13.69 & 14.23 &  9.98 & 13.29 & 16.72 &  9.89\\\\\n",
       "\tcp1\\_median & 14.44 & 15.41 & 13.59 & 13.55 & 13.47 & 10.84 & 12.67 & 17.87 &  9.20\\\\\n",
       "\tcp1\\_stdev &  5.00 &  7.37 &  8.23 & 10.44 &  6.12 &  5.38 &  9.45 &  2.45 & 10.30\\\\\n",
       "\tcp1\\_majori & 14.21 & 14.63 & 15.08 & 15.12 & 15.52 & 10.71 & 12.37 & 14.48 & 10.43\\\\\n",
       "\tcp1\\_varian &  3.82 &  6.64 &  6.92 &  8.20 &  5.25 &  4.10 &  9.04 &  1.54 &  9.42\\\\\n",
       "\tcp2\\_mean & 11.67 & 10.00 & 10.72 & 10.16 & 10.77 & 16.40 & 10.57 & 11.49 &  7.70\\\\\n",
       "\tcp2\\_median & 11.81 & 10.33 &  9.68 &  9.84 & 10.22 & 14.77 & 11.12 & 11.94 &  7.41\\\\\n",
       "\tcp2\\_stdev &  7.00 &  5.10 &  4.54 &  2.87 &  8.10 &  5.67 &  3.76 &  1.90 &  8.54\\\\\n",
       "\tcp2\\_majori & 11.20 &  9.14 &  7.35 &  9.27 &  9.25 & 13.59 & 10.18 & 10.89 &  5.94\\\\\n",
       "\tcp2\\_varian &  7.82 &  3.07 &  2.11 &  2.20 &  8.05 &  2.12 &  2.44 &  3.33 &  8.51\\\\\n",
       "\tcp3\\_mean & 14.99 & 11.19 &  8.15 & 14.62 & 11.70 &  6.92 &  8.55 &  9.77 &  5.65\\\\\n",
       "\tcp3\\_median & 14.98 & 11.50 &  8.68 & 14.44 & 11.40 &  7.14 &  8.87 &  8.21 &  4.85\\\\\n",
       "\tcp3\\_stdev & 10.54 & 12.33 &  7.54 &  9.87 &  8.07 &  5.29 &  9.76 &  5.95 & 13.50\\\\\n",
       "\tcp3\\_majori & 10.96 &  8.72 &  8.54 & 11.68 & 11.14 &  5.66 &  4.33 &  8.40 &  8.90\\\\\n",
       "\tcp3\\_varian & 11.62 & 10.94 &  6.92 & 10.13 &  7.55 &  6.21 & 10.72 &  7.04 & 12.97\\\\\n",
       "\tcp4\\_mean & 12.52 & 14.99 & 16.17 &  8.29 & 11.38 &  8.46 & 15.93 &  7.10 & 12.22\\\\\n",
       "\tcp4\\_median & 13.27 & 15.11 & 16.73 &  7.06 & 10.98 &  8.49 & 16.09 &  7.75 & 13.01\\\\\n",
       "\tcp4\\_stdev &  8.20 &  7.26 &  5.39 &  8.73 &  6.90 &  5.18 &  7.00 &  2.11 & 12.92\\\\\n",
       "\tcp4\\_majori &  8.44 &  9.73 & 14.97 &  6.11 &  8.88 &  5.82 & 10.60 &  3.53 & 12.54\\\\\n",
       "\tcp4\\_varian &  8.27 &  8.44 &  6.31 &  8.48 &  6.88 &  6.48 &  7.38 &  2.11 & 13.39\\\\\n",
       "\\end{tabular}\n"
      ],
      "text/markdown": [
       "\n",
       "| <!--/--> | bosque | enero | enmalezado | febrero | humedo | inundado | matorral | seco | urbano | \n",
       "|---|---|---|---|---|---|---|---|---|---|---|---|---|---|---|---|---|---|---|---|\n",
       "| cp1_mean | 14.78 | 15.28 | 13.80 | 13.69 | 14.23 |  9.98 | 13.29 | 16.72 |  9.89 | \n",
       "| cp1_median | 14.44 | 15.41 | 13.59 | 13.55 | 13.47 | 10.84 | 12.67 | 17.87 |  9.20 | \n",
       "| cp1_stdev |  5.00 |  7.37 |  8.23 | 10.44 |  6.12 |  5.38 |  9.45 |  2.45 | 10.30 | \n",
       "| cp1_majori | 14.21 | 14.63 | 15.08 | 15.12 | 15.52 | 10.71 | 12.37 | 14.48 | 10.43 | \n",
       "| cp1_varian |  3.82 |  6.64 |  6.92 |  8.20 |  5.25 |  4.10 |  9.04 |  1.54 |  9.42 | \n",
       "| cp2_mean | 11.67 | 10.00 | 10.72 | 10.16 | 10.77 | 16.40 | 10.57 | 11.49 |  7.70 | \n",
       "| cp2_median | 11.81 | 10.33 |  9.68 |  9.84 | 10.22 | 14.77 | 11.12 | 11.94 |  7.41 | \n",
       "| cp2_stdev |  7.00 |  5.10 |  4.54 |  2.87 |  8.10 |  5.67 |  3.76 |  1.90 |  8.54 | \n",
       "| cp2_majori | 11.20 |  9.14 |  7.35 |  9.27 |  9.25 | 13.59 | 10.18 | 10.89 |  5.94 | \n",
       "| cp2_varian |  7.82 |  3.07 |  2.11 |  2.20 |  8.05 |  2.12 |  2.44 |  3.33 |  8.51 | \n",
       "| cp3_mean | 14.99 | 11.19 |  8.15 | 14.62 | 11.70 |  6.92 |  8.55 |  9.77 |  5.65 | \n",
       "| cp3_median | 14.98 | 11.50 |  8.68 | 14.44 | 11.40 |  7.14 |  8.87 |  8.21 |  4.85 | \n",
       "| cp3_stdev | 10.54 | 12.33 |  7.54 |  9.87 |  8.07 |  5.29 |  9.76 |  5.95 | 13.50 | \n",
       "| cp3_majori | 10.96 |  8.72 |  8.54 | 11.68 | 11.14 |  5.66 |  4.33 |  8.40 |  8.90 | \n",
       "| cp3_varian | 11.62 | 10.94 |  6.92 | 10.13 |  7.55 |  6.21 | 10.72 |  7.04 | 12.97 | \n",
       "| cp4_mean | 12.52 | 14.99 | 16.17 |  8.29 | 11.38 |  8.46 | 15.93 |  7.10 | 12.22 | \n",
       "| cp4_median | 13.27 | 15.11 | 16.73 |  7.06 | 10.98 |  8.49 | 16.09 |  7.75 | 13.01 | \n",
       "| cp4_stdev |  8.20 |  7.26 |  5.39 |  8.73 |  6.90 |  5.18 |  7.00 |  2.11 | 12.92 | \n",
       "| cp4_majori |  8.44 |  9.73 | 14.97 |  6.11 |  8.88 |  5.82 | 10.60 |  3.53 | 12.54 | \n",
       "| cp4_varian |  8.27 |  8.44 |  6.31 |  8.48 |  6.88 |  6.48 |  7.38 |  2.11 | 13.39 | \n",
       "\n",
       "\n"
      ],
      "text/plain": [
       "           bosque enero enmalezado febrero humedo inundado matorral seco \n",
       "cp1_mean   14.78  15.28 13.80      13.69   14.23   9.98    13.29    16.72\n",
       "cp1_median 14.44  15.41 13.59      13.55   13.47  10.84    12.67    17.87\n",
       "cp1_stdev   5.00   7.37  8.23      10.44    6.12   5.38     9.45     2.45\n",
       "cp1_majori 14.21  14.63 15.08      15.12   15.52  10.71    12.37    14.48\n",
       "cp1_varian  3.82   6.64  6.92       8.20    5.25   4.10     9.04     1.54\n",
       "cp2_mean   11.67  10.00 10.72      10.16   10.77  16.40    10.57    11.49\n",
       "cp2_median 11.81  10.33  9.68       9.84   10.22  14.77    11.12    11.94\n",
       "cp2_stdev   7.00   5.10  4.54       2.87    8.10   5.67     3.76     1.90\n",
       "cp2_majori 11.20   9.14  7.35       9.27    9.25  13.59    10.18    10.89\n",
       "cp2_varian  7.82   3.07  2.11       2.20    8.05   2.12     2.44     3.33\n",
       "cp3_mean   14.99  11.19  8.15      14.62   11.70   6.92     8.55     9.77\n",
       "cp3_median 14.98  11.50  8.68      14.44   11.40   7.14     8.87     8.21\n",
       "cp3_stdev  10.54  12.33  7.54       9.87    8.07   5.29     9.76     5.95\n",
       "cp3_majori 10.96   8.72  8.54      11.68   11.14   5.66     4.33     8.40\n",
       "cp3_varian 11.62  10.94  6.92      10.13    7.55   6.21    10.72     7.04\n",
       "cp4_mean   12.52  14.99 16.17       8.29   11.38   8.46    15.93     7.10\n",
       "cp4_median 13.27  15.11 16.73       7.06   10.98   8.49    16.09     7.75\n",
       "cp4_stdev   8.20   7.26  5.39       8.73    6.90   5.18     7.00     2.11\n",
       "cp4_majori  8.44   9.73 14.97       6.11    8.88   5.82    10.60     3.53\n",
       "cp4_varian  8.27   8.44  6.31       8.48    6.88   6.48     7.38     2.11\n",
       "           urbano\n",
       "cp1_mean    9.89 \n",
       "cp1_median  9.20 \n",
       "cp1_stdev  10.30 \n",
       "cp1_majori 10.43 \n",
       "cp1_varian  9.42 \n",
       "cp2_mean    7.70 \n",
       "cp2_median  7.41 \n",
       "cp2_stdev   8.54 \n",
       "cp2_majori  5.94 \n",
       "cp2_varian  8.51 \n",
       "cp3_mean    5.65 \n",
       "cp3_median  4.85 \n",
       "cp3_stdev  13.50 \n",
       "cp3_majori  8.90 \n",
       "cp3_varian 12.97 \n",
       "cp4_mean   12.22 \n",
       "cp4_median 13.01 \n",
       "cp4_stdev  12.92 \n",
       "cp4_majori 12.54 \n",
       "cp4_varian 13.39 "
      ]
     },
     "metadata": {},
     "output_type": "display_data"
    }
   ],
   "source": [
    "### importancia de las variables en el modelo \n",
    "fm =modelo_rf$finalModel\n",
    "c=as.matrix(round(varImp(fm),2))\n",
    "c"
   ]
  },
  {
   "cell_type": "markdown",
   "metadata": {},
   "source": [
    "Respecto a la importancia de las variables en cada una de las clases la variable mediana del componente 1 (cp1_median) de la clase seco presentó el valor más alto (17.8), sin embargo, esta misma clase presentó el valor más bajo  (1.54) para la varianza del componente principal 1 (cp1_varian) adicionalmente en conjunto todos los fueron los más bajos de todas las clases, lo que sugiere que la mediana del componente uno es más útil para realizar la clasificación. La clase enmalezado presentó el segundo valor más alto (16.7) para la mediana del componente 4 (cp4_median), también presentó el segundo valor más bajo (2.10) para la varianza del componente 2 (cp2_var)."
   ]
  },
  {
   "cell_type": "code",
   "execution_count": 43,
   "metadata": {},
   "outputs": [],
   "source": [
    "### exporta la tabla de variables de importancia \n",
    "export=as.data.frame(varImp(fm))\n",
    "write.csv(export, file = \"D:\\\\GEOBIA\\\\importancia.csv\")"
   ]
  },
  {
   "cell_type": "code",
   "execution_count": 32,
   "metadata": {},
   "outputs": [
    {
     "data": {
      "text/html": [
       "TRUE"
      ],
      "text/latex": [
       "TRUE"
      ],
      "text/markdown": [
       "TRUE"
      ],
      "text/plain": [
       "[1] TRUE"
      ]
     },
     "metadata": {},
     "output_type": "display_data"
    }
   ],
   "source": [
    "### evaluar la exactitud del modelo\n",
    "pridicted = factor(pred.rf)\n",
    "real = factor(dataTest$class)\n",
    "my_data1 <- data.frame(data = pridicted, type = \"prediction\")\n",
    "my_data2 <- data.frame(data = real, type = \"real\")\n",
    "my_data3 <- rbind(my_data1,my_data2)\n",
    "identical(levels(my_data3[my_data3$type == \"prediction\",1]) , levels(my_data3[my_data3$type == \"real\",1]))"
   ]
  },
  {
   "cell_type": "code",
   "execution_count": 33,
   "metadata": {},
   "outputs": [],
   "source": [
    "### convertir a matriz \n",
    "matrix = confusionMatrix(my_data3[my_data3$type == \"prediction\",1], my_data3[my_data3$type == \"real\",1],  dnn = c(\"Prediction\", \"Reference\"))"
   ]
  },
  {
   "cell_type": "code",
   "execution_count": 34,
   "metadata": {},
   "outputs": [
    {
     "data": {
      "text/html": [
       "<table>\n",
       "<thead><tr><th></th><th scope=col>bosque</th><th scope=col>enero</th><th scope=col>enmalezado</th><th scope=col>febrero</th><th scope=col>humedo</th><th scope=col>inundado</th><th scope=col>matorral</th><th scope=col>seco</th><th scope=col>urbano</th></tr></thead>\n",
       "<tbody>\n",
       "\t<tr><th scope=row>bosque</th><td>13</td><td> 0</td><td> 0</td><td> 0</td><td> 0</td><td> 0</td><td> 0</td><td> 0</td><td> 1</td></tr>\n",
       "\t<tr><th scope=row>enero</th><td> 0</td><td>19</td><td> 0</td><td> 0</td><td> 0</td><td> 0</td><td> 0</td><td> 0</td><td> 0</td></tr>\n",
       "\t<tr><th scope=row>enmalezado</th><td> 0</td><td> 0</td><td>17</td><td> 4</td><td> 0</td><td> 0</td><td> 0</td><td> 0</td><td> 0</td></tr>\n",
       "\t<tr><th scope=row>febrero</th><td> 0</td><td> 0</td><td> 0</td><td>17</td><td> 0</td><td> 0</td><td> 0</td><td> 0</td><td> 0</td></tr>\n",
       "\t<tr><th scope=row>humedo</th><td> 0</td><td> 0</td><td> 0</td><td> 0</td><td>16</td><td> 0</td><td> 0</td><td> 0</td><td> 0</td></tr>\n",
       "\t<tr><th scope=row>inundado</th><td> 0</td><td> 0</td><td> 0</td><td> 0</td><td> 0</td><td>17</td><td> 0</td><td> 0</td><td> 0</td></tr>\n",
       "\t<tr><th scope=row>matorral</th><td> 0</td><td> 0</td><td> 0</td><td> 0</td><td> 0</td><td> 0</td><td>21</td><td> 0</td><td> 0</td></tr>\n",
       "\t<tr><th scope=row>seco</th><td> 0</td><td> 0</td><td> 0</td><td> 0</td><td> 1</td><td> 0</td><td> 0</td><td>19</td><td> 0</td></tr>\n",
       "\t<tr><th scope=row>urbano</th><td> 0</td><td> 0</td><td> 0</td><td> 0</td><td> 0</td><td> 0</td><td> 0</td><td> 1</td><td>18</td></tr>\n",
       "</tbody>\n",
       "</table>\n"
      ],
      "text/latex": [
       "\\begin{tabular}{r|lllllllll}\n",
       "  & bosque & enero & enmalezado & febrero & humedo & inundado & matorral & seco & urbano\\\\\n",
       "\\hline\n",
       "\tbosque & 13 &  0 &  0 &  0 &  0 &  0 &  0 &  0 &  1\\\\\n",
       "\tenero &  0 & 19 &  0 &  0 &  0 &  0 &  0 &  0 &  0\\\\\n",
       "\tenmalezado &  0 &  0 & 17 &  4 &  0 &  0 &  0 &  0 &  0\\\\\n",
       "\tfebrero &  0 &  0 &  0 & 17 &  0 &  0 &  0 &  0 &  0\\\\\n",
       "\thumedo &  0 &  0 &  0 &  0 & 16 &  0 &  0 &  0 &  0\\\\\n",
       "\tinundado &  0 &  0 &  0 &  0 &  0 & 17 &  0 &  0 &  0\\\\\n",
       "\tmatorral &  0 &  0 &  0 &  0 &  0 &  0 & 21 &  0 &  0\\\\\n",
       "\tseco &  0 &  0 &  0 &  0 &  1 &  0 &  0 & 19 &  0\\\\\n",
       "\turbano &  0 &  0 &  0 &  0 &  0 &  0 &  0 &  1 & 18\\\\\n",
       "\\end{tabular}\n"
      ],
      "text/markdown": [
       "\n",
       "| <!--/--> | bosque | enero | enmalezado | febrero | humedo | inundado | matorral | seco | urbano | \n",
       "|---|---|---|---|---|---|---|---|---|\n",
       "| bosque | 13 |  0 |  0 |  0 |  0 |  0 |  0 |  0 |  1 | \n",
       "| enero |  0 | 19 |  0 |  0 |  0 |  0 |  0 |  0 |  0 | \n",
       "| enmalezado |  0 |  0 | 17 |  4 |  0 |  0 |  0 |  0 |  0 | \n",
       "| febrero |  0 |  0 |  0 | 17 |  0 |  0 |  0 |  0 |  0 | \n",
       "| humedo |  0 |  0 |  0 |  0 | 16 |  0 |  0 |  0 |  0 | \n",
       "| inundado |  0 |  0 |  0 |  0 |  0 | 17 |  0 |  0 |  0 | \n",
       "| matorral |  0 |  0 |  0 |  0 |  0 |  0 | 21 |  0 |  0 | \n",
       "| seco |  0 |  0 |  0 |  0 |  1 |  0 |  0 | 19 |  0 | \n",
       "| urbano |  0 |  0 |  0 |  0 |  0 |  0 |  0 |  1 | 18 | \n",
       "\n",
       "\n"
      ],
      "text/plain": [
       "           bosque enero enmalezado febrero humedo inundado matorral seco urbano\n",
       "bosque     13      0     0          0       0      0        0        0    1    \n",
       "enero       0     19     0          0       0      0        0        0    0    \n",
       "enmalezado  0      0    17          4       0      0        0        0    0    \n",
       "febrero     0      0     0         17       0      0        0        0    0    \n",
       "humedo      0      0     0          0      16      0        0        0    0    \n",
       "inundado    0      0     0          0       0     17        0        0    0    \n",
       "matorral    0      0     0          0       0      0       21        0    0    \n",
       "seco        0      0     0          0       1      0        0       19    0    \n",
       "urbano      0      0     0          0       0      0        0        1   18    "
      ]
     },
     "metadata": {},
     "output_type": "display_data"
    }
   ],
   "source": [
    "### visualizar la matriz \n",
    "data.matrix(matrix)"
   ]
  },
  {
   "cell_type": "markdown",
   "metadata": {},
   "source": [
    "El modelo logró tener una proporción de clasificaciones correctas de un 95.7 % y un índice Kappa de 95.2% casi igual lo que indica que no existió efectos aleatorios que pudieran influir en el resultado, se encontró un segmento definido en los datos de entrenamiento como perteneciente a la clase seco fue encontrado por el modelo como húmedo, de igual manera otro como urbano fue encontrado como seco, mientras que 4 segmentos definidos por el modelo como pertenecientes a siembras en febrero habían sido definidos en el entrenamiento como pertenecientes a lotes enmalezados, lo mismo que uno urbano era definido como bosque."
   ]
  },
  {
   "cell_type": "code",
   "execution_count": 52,
   "metadata": {},
   "outputs": [
    {
     "data": {
      "text/html": [
       "<dl class=dl-horizontal>\n",
       "\t<dt>Accuracy</dt>\n",
       "\t\t<dd>0.957</dd>\n",
       "\t<dt>Kappa</dt>\n",
       "\t\t<dd>0.952</dd>\n",
       "\t<dt>AccuracyLower</dt>\n",
       "\t\t<dd>0.914</dd>\n",
       "\t<dt>AccuracyUpper</dt>\n",
       "\t\t<dd>0.983</dd>\n",
       "\t<dt>AccuracyNull</dt>\n",
       "\t\t<dd>0.128</dd>\n",
       "\t<dt>AccuracyPValue</dt>\n",
       "\t\t<dd>0</dd>\n",
       "\t<dt>McnemarPValue</dt>\n",
       "\t\t<dd>NaN</dd>\n",
       "</dl>\n"
      ],
      "text/latex": [
       "\\begin{description*}\n",
       "\\item[Accuracy] 0.957\n",
       "\\item[Kappa] 0.952\n",
       "\\item[AccuracyLower] 0.914\n",
       "\\item[AccuracyUpper] 0.983\n",
       "\\item[AccuracyNull] 0.128\n",
       "\\item[AccuracyPValue] 0\n",
       "\\item[McnemarPValue] NaN\n",
       "\\end{description*}\n"
      ],
      "text/markdown": [
       "Accuracy\n",
       ":   0.957Kappa\n",
       ":   0.952AccuracyLower\n",
       ":   0.914AccuracyUpper\n",
       ":   0.983AccuracyNull\n",
       ":   0.128AccuracyPValue\n",
       ":   0McnemarPValue\n",
       ":   NaN\n",
       "\n"
      ],
      "text/plain": [
       "      Accuracy          Kappa  AccuracyLower  AccuracyUpper   AccuracyNull \n",
       "         0.957          0.952          0.914          0.983          0.128 \n",
       "AccuracyPValue  McnemarPValue \n",
       "         0.000            NaN "
      ]
     },
     "metadata": {},
     "output_type": "display_data"
    }
   ],
   "source": [
    "### visualizar indice Kappa y exactitud global\n",
    "round(matrix$overall,3)"
   ]
  },
  {
   "cell_type": "code",
   "execution_count": 41,
   "metadata": {},
   "outputs": [],
   "source": [
    "### correr el modelo con la totalidad de los datos \n",
    "predicciones_rf = predict(modelo_rf, newdata = data_all, type = \"raw\")"
   ]
  },
  {
   "cell_type": "code",
   "execution_count": 42,
   "metadata": {},
   "outputs": [],
   "source": [
    "### convertir el resultado a un data.frame y exportarlo a un csv \n",
    "resultado=as.data.frame(predicciones_rf)\n",
    "write.csv(resultado, file = \"D:\\\\GEOBIA\\\\clasificacion.csv\")"
   ]
  },
  {
   "cell_type": "code",
   "execution_count": null,
   "metadata": {},
   "outputs": [],
   "source": []
  }
 ],
 "metadata": {
  "kernelspec": {
   "display_name": "R",
   "language": "R",
   "name": "ir"
  },
  "language_info": {
   "codemirror_mode": "r",
   "file_extension": ".r",
   "mimetype": "text/x-r-source",
   "name": "R",
   "pygments_lexer": "r",
   "version": "3.5.1"
  }
 },
 "nbformat": 4,
 "nbformat_minor": 2
}
